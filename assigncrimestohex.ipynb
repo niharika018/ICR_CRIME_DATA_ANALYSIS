{
 "cells": [
  {
   "cell_type": "code",
   "execution_count": null,
   "id": "326d20f9-4a80-4e8b-8652-fef3bed86602",
   "metadata": {},
   "outputs": [],
   "source": [
    "import pandas as pd\n",
    "import geopandas as gpd\n",
    "from shapely.geometry import Point\n",
    "import csv\n",
    "\n",
    "def assign_crimes_no_sum(crime_df, hex_grid, date):\n",
    "    \n",
    "    #convert dataframe to GeoDataFrame\n",
    "    crime_df['FIRST_OCCURRENCE_DATE'] = pd.to_datetime(crime_df['FIRST_OCCURRENCE_DATE'], errors='coerce')\n",
    "    crime_df['date'] = crime_df['FIRST_OCCURRENCE_DATE'].dt.date\n",
    "    daily_crime_df = crime_df[crime_df['date'] == date]\n",
    "\n",
    "    daily_crime_df = daily_crime_df.copy()\n",
    "    daily_crime_df.loc[:, 'geometry'] = daily_crime_df.apply(lambda row: Point(row['GEO_LON'], row['GEO_LAT']), axis=1)\n",
    "    crime_gdf = gpd.GeoDataFrame(daily_crime_df, geometry='geometry', crs=\"EPSG:4326\")\n",
    "\n",
    "    #ensure both GeoDataFrames have the same CRS\n",
    "    hex_grid = hex_grid.to_crs(epsg=4326)\n",
    "\n",
    "    #Assign crimes to a hexagon\n",
    "    crimes_with_hex = gpd.sjoin(crime_gdf, hex_grid, how=\"left\", predicate=\"within\")\n",
    "\n",
    "    return crimes_with_hex\n",
    "\n",
    "crime_data = \"val_data.csv\" #.csv\n",
    "crime_df = pd.read_csv(crime_data)\n",
    "grid_file = \"grid.geojson\" #.geojson\n",
    "hex_grid = gpd.read_file(grid_file)\n",
    "save_name = \"test.csv\" #.csv\n",
    "\n",
    "#get unique dates\n",
    "crime_df['FIRST_OCCURRENCE_DATE'] = pd.to_datetime(crime_df['FIRST_OCCURRENCE_DATE'], errors='coerce')\n",
    "crime_df['date'] = crime_df['FIRST_OCCURRENCE_DATE'].dt.date\n",
    "\n",
    "unique_dates = sorted(crime_df['date'].dropna().unique())\n",
    "\n",
    "#print(unique_dates[0:5])\n",
    "\n",
    "crime_grids = []\n",
    "\n",
    "#create grid of crime counts for each day\n",
    "for date in unique_dates:\n",
    "    \n",
    "    grid = assign_crimes_no_sum(crime_df, hex_grid, date)\n",
    "    crime_grids.append(grid)\n",
    "\n",
    "crime_df = pd.concat(crime_grids, ignore_index=True)\n",
    "crime_df.to_csv(save_name, index=False)"
   ]
  }
 ],
 "metadata": {
  "kernelspec": {
   "display_name": "Python 3 (ipykernel)",
   "language": "python",
   "name": "python3"
  },
  "language_info": {
   "codemirror_mode": {
    "name": "ipython",
    "version": 3
   },
   "file_extension": ".py",
   "mimetype": "text/x-python",
   "name": "python",
   "nbconvert_exporter": "python",
   "pygments_lexer": "ipython3",
   "version": "3.10.8"
  }
 },
 "nbformat": 4,
 "nbformat_minor": 5
}
